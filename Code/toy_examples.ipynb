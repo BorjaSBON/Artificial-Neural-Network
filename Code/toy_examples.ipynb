{
 "cells": [
  {
   "attachments": {},
   "cell_type": "markdown",
   "metadata": {},
   "source": [
    "## <b>Libraries</b>"
   ]
  },
  {
   "cell_type": "code",
   "execution_count": null,
   "metadata": {},
   "outputs": [],
   "source": [
    "import pandas as pd\n",
    "import numpy as np\n",
    "\n",
    "import ann_regressor\n",
    "import ann_classification_v1\n",
    "import ann_classification_v2"
   ]
  },
  {
   "attachments": {},
   "cell_type": "markdown",
   "metadata": {},
   "source": [
    "## <b>Examples</b>"
   ]
  },
  {
   "attachments": {},
   "cell_type": "markdown",
   "metadata": {},
   "source": [
    "### <b>Regression</b>"
   ]
  },
  {
   "attachments": {},
   "cell_type": "markdown",
   "metadata": {},
   "source": [
    "#### Simple Perceptron (online)"
   ]
  },
  {
   "cell_type": "code",
   "execution_count": null,
   "metadata": {},
   "outputs": [],
   "source": [
    "data = pd.DataFrame([[1,0],[0,1]], columns=['x1','x2'])\n",
    "desire = pd.DataFrame([[1],[1]], columns=['Desire'])\n",
    "\n",
    "eta = 0.2\n",
    "mu = 0.1\n",
    "\n",
    "res = ann_regressor.ann_regressor(data, desire, [1], eta, mu, version='offline', error_target=0.01, max_iterations=200, debug=True)\n",
    "train = res.train()\n",
    "print('\\nFINAL WEIGHTS:\\n', train)"
   ]
  },
  {
   "attachments": {},
   "cell_type": "markdown",
   "metadata": {},
   "source": [
    "#### Simple Perceptron (offline)"
   ]
  },
  {
   "cell_type": "code",
   "execution_count": null,
   "metadata": {},
   "outputs": [],
   "source": [
    "data = pd.DataFrame([[1,0],[0,1]], columns=['x1','x2'])\n",
    "desire = pd.DataFrame([[1],[1]], columns=['Desire'])\n",
    "\n",
    "eta = 0.2\n",
    "mu = 0.1\n",
    "\n",
    "res = ann_regressor.ann_regressor(data, desire, [1], eta, mu, version='offline', error_target=0.01, max_iterations=200, debug=True)\n",
    "train = res.train()\n",
    "print('\\nFINAL WEIGHTS:\\n', train)"
   ]
  },
  {
   "attachments": {},
   "cell_type": "markdown",
   "metadata": {},
   "source": [
    "#### Complex Neural Network (online)"
   ]
  },
  {
   "cell_type": "code",
   "execution_count": null,
   "metadata": {},
   "outputs": [],
   "source": [
    "data = pd.DataFrame([[1,1,0],[0,1,0],[0.5,1,1],[0.5,0.5,0.5]], columns=['V1','V2','V3'])\n",
    "desire = pd.DataFrame([[1,0.5,0.5],[0.5,1,0.7],[0.2,0,0],[1,1,0.25]], columns=['D1','D2','D3'])\n",
    "\n",
    "eta = 0.01\n",
    "mu = 0.05\n",
    "\n",
    "res = ann_regressor.ann_regressor(data, desire, [3,2,1,3], eta, mu, version='online', error_target=0.01, max_iterations=1000, debug=True)\n",
    "train = res.train()\n",
    "print('\\nFINAL WEIGHTS:\\n', train)"
   ]
  },
  {
   "attachments": {},
   "cell_type": "markdown",
   "metadata": {},
   "source": [
    "#### Complex Neural Network (offline)"
   ]
  },
  {
   "cell_type": "code",
   "execution_count": null,
   "metadata": {},
   "outputs": [],
   "source": [
    "data = pd.DataFrame([[1,1,0],[0,1,0],[0.5,1,1],[0.5,0.5,0.5]], columns=['V1','V2','V3'])\n",
    "desire = pd.DataFrame([[1,0.5,0.5],[0.5,1,0.7],[0.2,0,0],[1,1,0.25]], columns=['D1','D2','D3'])\n",
    "\n",
    "eta = 0.01\n",
    "mu = 0.05\n",
    "\n",
    "res = ann_regressor.ann_regressor(data, desire, [3,2,1,3], eta, mu, version='offline', error_target=0.01, max_iterations=300, debug=True)\n",
    "train = res.train()\n",
    "print('\\nFINAL WEIGHTS:\\n', train)"
   ]
  },
  {
   "attachments": {},
   "cell_type": "markdown",
   "metadata": {},
   "source": [
    "### <b>Classification</b>"
   ]
  },
  {
   "cell_type": "markdown",
   "metadata": {},
   "source": [
    "#### Simple Perceptron (online)"
   ]
  },
  {
   "cell_type": "code",
   "execution_count": null,
   "metadata": {},
   "outputs": [],
   "source": [
    "data = pd.DataFrame([[1,0],[0,1]], columns=['x1','x2'])\n",
    "desire = pd.DataFrame([[1,0],[0,1]], columns=['D1', 'D2'])\n",
    "\n",
    "eta = 0.01\n",
    "mu = 0.1\n",
    "\n",
    "res = ann_classification_v1.ann_regressor(data, desire, [2], eta, mu, version='online', error_target=0.01, max_iterations=300, debug=True)\n",
    "train = res.train()\n",
    "print('\\nFINAL WEIGHTS:\\n', train)"
   ]
  },
  {
   "attachments": {},
   "cell_type": "markdown",
   "metadata": {},
   "source": [
    "#### Simple Perceptron (offline)"
   ]
  },
  {
   "cell_type": "code",
   "execution_count": null,
   "metadata": {},
   "outputs": [],
   "source": [
    "data = pd.DataFrame([[1,0],[0,1]], columns=['x1','x2'])\n",
    "desire = pd.DataFrame([[1,0],[0,1]], columns=['D1','D2'])\n",
    "\n",
    "eta = 0.01\n",
    "mu = 0.1\n",
    "\n",
    "res = ann_classification_v2.ann_classification(data, desire, [2], eta, mu, version='offline', error_target=0.01, max_iterations=500, debug=True)\n",
    "print('\\nFINAL WEIGHTS:\\n', res)"
   ]
  },
  {
   "cell_type": "markdown",
   "metadata": {},
   "source": [
    "#### Complex Neural Network (online)"
   ]
  },
  {
   "cell_type": "code",
   "execution_count": null,
   "metadata": {},
   "outputs": [],
   "source": [
    "data = pd.DataFrame([[1,0.75,0],[1.5,1,0],[0,0.6,1],[0.5,0.5,0.5]], columns=['V1','V2','V3'])\n",
    "desire = pd.DataFrame([[1,0,0],[1,1,0],[1,0,1],[0,0,1]], columns=['D1','D2','D3'])\n",
    "\n",
    "eta = 0.01\n",
    "mu = 0.05\n",
    "\n",
    "res = ann_classification_v1.ann_classification(data, desire, [3,2,1,3], eta, mu, version='online', error_target=0.01, max_iterations=300, debug=True)\n",
    "print('\\nFINAL WEIGHTS:\\n', res)"
   ]
  },
  {
   "cell_type": "markdown",
   "metadata": {},
   "source": [
    "#### Complex Neural Network (offline)"
   ]
  },
  {
   "cell_type": "code",
   "execution_count": null,
   "metadata": {},
   "outputs": [],
   "source": [
    "data = pd.DataFrame([[1,0.75,0],[1.5,1,0],[0,0.6,1],[0.5,0.5,0.5]], columns=['V1','V2','V3'])\n",
    "desire = pd.DataFrame([[1,0,0],[1,1,0],[1,0,1],[0,0,1]], columns=['D1','D2','D3'])\n",
    "\n",
    "eta = 0.01\n",
    "mu = 0.05\n",
    "\n",
    "res = ann_classification_v2.ann_classification(data, desire, [3,2,1,3], eta, mu, version='offline', error_target=0.01, max_iterations=300, debug=True)\n",
    "print('\\nFINAL WEIGHTS:\\n', res)"
   ]
  }
 ],
 "metadata": {
  "kernelspec": {
   "display_name": "Python 3",
   "language": "python",
   "name": "python3"
  },
  "language_info": {
   "codemirror_mode": {
    "name": "ipython",
    "version": 3
   },
   "file_extension": ".py",
   "mimetype": "text/x-python",
   "name": "python",
   "nbconvert_exporter": "python",
   "pygments_lexer": "ipython3",
   "version": "3.9.5"
  },
  "orig_nbformat": 4,
  "vscode": {
   "interpreter": {
    "hash": "26f26e3d8a7a55e22c3af20ec9b24f26c3c449dc24adccdbaf55e3f422793d10"
   }
  }
 },
 "nbformat": 4,
 "nbformat_minor": 2
}
