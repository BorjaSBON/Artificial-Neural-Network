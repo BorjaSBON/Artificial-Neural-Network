{
 "cells": [
  {
   "attachments": {},
   "cell_type": "markdown",
   "metadata": {},
   "source": [
    "## <b>Libraries</b>"
   ]
  },
  {
   "cell_type": "code",
   "execution_count": null,
   "metadata": {},
   "outputs": [],
   "source": [
    "import pandas as pd\n",
    "import numpy as np\n",
    "\n",
    "import ann_regressor\n",
    "import ann_classification_v1\n",
    "import ann_classification_v2\n",
    "\n",
    "from sklearn.datasets import load_iris, load_diabetes\n",
    "from sklearn.preprocessing import MinMaxScaler\n",
    "from sklearn.model_selection import train_test_split"
   ]
  },
  {
   "attachments": {},
   "cell_type": "markdown",
   "metadata": {},
   "source": [
    "## <b>Regression Example</b>"
   ]
  },
  {
   "attachments": {},
   "cell_type": "markdown",
   "metadata": {},
   "source": [
    "#### Import Dataset"
   ]
  },
  {
   "cell_type": "code",
   "execution_count": null,
   "metadata": {},
   "outputs": [],
   "source": [
    "data = load_diabetes()\n",
    "\n",
    "columns = data.feature_names\n",
    "X = pd.DataFrame(data.data, columns=columns)\n",
    "Y = pd.DataFrame(data.target)"
   ]
  },
  {
   "attachments": {},
   "cell_type": "markdown",
   "metadata": {},
   "source": [
    "#### Data Preprocessing"
   ]
  },
  {
   "cell_type": "code",
   "execution_count": null,
   "metadata": {},
   "outputs": [],
   "source": [
    "print('Valores nulos: ' + str(X.isna().sum().sum()))\n",
    "\n",
    "for var in X.columns:\n",
    "    scaler = MinMaxScaler((0,1))\n",
    "    X[var] = scaler.fit_transform(X[var].values.reshape(-1,1))\n",
    "\n",
    "scaler = MinMaxScaler((0,1))\n",
    "Y = scaler.fit_transform(Y.values.reshape(-1,1))\n",
    "Y = pd.DataFrame(Y)"
   ]
  },
  {
   "attachments": {},
   "cell_type": "markdown",
   "metadata": {},
   "source": [
    "#### Results"
   ]
  },
  {
   "cell_type": "code",
   "execution_count": null,
   "metadata": {},
   "outputs": [],
   "source": [
    "# Split the dataset\n",
    "X_train, X_test, Y_train, Y_test = train_test_split(X, Y, test_size=0.3, random_state=0)\n",
    "\n",
    "# Run the algorithm\n",
    "eta = 0.01\n",
    "mu = 0.05\n",
    "\n",
    "result = ann_regressor.ann_regressor(X_train, Y_train, [2,1], eta, mu, version='online', error_target=0.01, max_iterations=10, debug=True)\n",
    "res = result.train()\n",
    "print('\\nFINAL WEIGHTS:\\n', res)\n",
    "\n",
    "# Validate the results\n",
    "outputs = ann_regressor.getFinalOutputs(X_test, [2,1], result, 'sigmoid')\n",
    "error = ann_regressor.getFinalError(Y_test, outputs)\n",
    "\n",
    "print('Validation Error:', error)"
   ]
  },
  {
   "attachments": {},
   "cell_type": "markdown",
   "metadata": {},
   "source": [
    "## <b>Classification Example</b>"
   ]
  },
  {
   "attachments": {},
   "cell_type": "markdown",
   "metadata": {},
   "source": [
    "#### Import Dataset"
   ]
  },
  {
   "cell_type": "code",
   "execution_count": null,
   "metadata": {},
   "outputs": [],
   "source": [
    "data = load_iris()\n",
    "\n",
    "columns = data.feature_names\n",
    "X = pd.DataFrame(data.data, columns=columns)\n",
    "Y = pd.DataFrame(data.target)"
   ]
  },
  {
   "attachments": {},
   "cell_type": "markdown",
   "metadata": {},
   "source": [
    "#### Data Preprocessing"
   ]
  },
  {
   "cell_type": "code",
   "execution_count": null,
   "metadata": {},
   "outputs": [],
   "source": [
    "print('Valores nulos: ' + str(X.isna().sum().sum()))\n",
    "\n",
    "for var in X.columns:\n",
    "    scaler = MinMaxScaler((0,1))\n",
    "    X[var] = scaler.fit_transform(X[var].values.reshape(-1,1))\n",
    "\n",
    "scaler = MinMaxScaler((0,1))\n",
    "Y = pd.get_dummies(Y[0])"
   ]
  },
  {
   "attachments": {},
   "cell_type": "markdown",
   "metadata": {},
   "source": [
    "#### Results"
   ]
  },
  {
   "cell_type": "code",
   "execution_count": null,
   "metadata": {},
   "outputs": [],
   "source": [
    "# Split the dataset\n",
    "X_train, X_test, Y_train, Y_test = train_test_split(X, Y, test_size=0.3, random_state=0)\n",
    "\n",
    "# Run the algorithm\n",
    "eta = 0.01\n",
    "mu = 0.05\n",
    "\n",
    "result = ann_classification_v1.ann_classification(X_train, Y_train, [2,3], eta, mu, version='online', error_target=0.001, max_iterations=10, debug=True)\n",
    "res = result.train()\n",
    "print('\\nFINAL WEIGHTS:\\n', res)\n",
    "\n",
    "# Validate the results\n",
    "outputs = ann_classification_v1.getFinalOutputs(X_test, [2,3], result, 'sigmoid')\n",
    "error = ann_classification_v1.getFinalError(Y_test, outputs)\n",
    "\n",
    "print('\\nValidation Error:', error)"
   ]
  }
 ],
 "metadata": {
  "kernelspec": {
   "display_name": "Python 3",
   "language": "python",
   "name": "python3"
  },
  "language_info": {
   "codemirror_mode": {
    "name": "ipython",
    "version": 3
   },
   "file_extension": ".py",
   "mimetype": "text/x-python",
   "name": "python",
   "nbconvert_exporter": "python",
   "pygments_lexer": "ipython3",
   "version": "3.9.5"
  },
  "orig_nbformat": 4,
  "vscode": {
   "interpreter": {
    "hash": "26f26e3d8a7a55e22c3af20ec9b24f26c3c449dc24adccdbaf55e3f422793d10"
   }
  }
 },
 "nbformat": 4,
 "nbformat_minor": 2
}
